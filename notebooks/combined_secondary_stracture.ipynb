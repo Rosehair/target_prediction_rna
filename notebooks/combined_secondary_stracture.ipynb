{
 "cells": [
  {
   "cell_type": "code",
   "execution_count": 2,
   "metadata": {
    "collapsed": false
   },
   "outputs": [],
   "source": [
    "import pandas as pd\n",
    "import numpy as np\n",
    "from Bio import SeqIO\n",
    "from src import deepTarget_utils as bio_utils\n",
    "import re\n",
    "import src.RNA\n",
    "from  src.RNA import cofold\n",
    "from src import my_deepTarget_utils as utils"
   ]
  },
  {
   "cell_type": "code",
   "execution_count": 3,
   "metadata": {
    "collapsed": true
   },
   "outputs": [],
   "source": [
    "poss_site_level = \"../data/13059_2014_500_MOESM1_ESM=site-level human miRNA-target site pairs from miRecords=.csv\"\n",
    "poss_gene_level = \"../data/13059_2014_500_MOESM2_ESM=UTR-level human miRNA-gene pairs from miRecords and miRTarBase=.csv\""
   ]
  },
  {
   "cell_type": "code",
   "execution_count": 4,
   "metadata": {
    "collapsed": false
   },
   "outputs": [],
   "source": [
    "data = pd.read_csv(poss_site_level)"
   ]
  },
  {
   "cell_type": "code",
   "execution_count": 5,
   "metadata": {
    "collapsed": true
   },
   "outputs": [],
   "source": [
    "mirna_fasta_file = \"../data/miRNA.fasta\"\n",
    "mrna_fasta_file = \"../data/3UTR.fasta\"\n",
    "mirna_ids, mirna_seqs, mrna_ids, mrna_seqs = bio_utils.read_fasta(mirna_fasta_file, mrna_fasta_file)"
   ]
  },
  {
   "cell_type": "code",
   "execution_count": 13,
   "metadata": {
    "collapsed": true
   },
   "outputs": [],
   "source": [
    "SEED_START = 1\n",
    "SEED_SIZE = 6\n",
    "CTS_SIZE = 40\n",
    "wc_pairs = {'A': 'U', 'U': 'A', 'G': 'C', 'C': 'G'}"
   ]
  },
  {
   "cell_type": "code",
   "execution_count": 10,
   "metadata": {
    "collapsed": false
   },
   "outputs": [],
   "source": [
    "data[\"seq\"] = data.mRNA_ID.apply(lambda x: mrna_seqs[mrna_ids.index(x)])\n",
    "data[\"miseq\"] = data.miR_ID.apply(lambda x: mirna_seqs[mirna_ids.index(x)])"
   ]
  },
  {
   "cell_type": "code",
   "execution_count": 15,
   "metadata": {
    "collapsed": false,
    "scrolled": true
   },
   "outputs": [],
   "source": [
    "# very heavy to run\n",
    "end = len(data) # if you have all the power\n",
    "end = 10 # can take 10 minutes\n",
    "# TODO make multiprocess\n",
    "res = []\n",
    "for index in range(0, end):\n",
    "    datum = data.loc[index]\n",
    "    \n",
    "    end_index = datum.End_position\n",
    "    mirna = datum.miseq\n",
    "    mrna = datum.seq\n",
    "    if end_index not in bio_utils.find_candidate(mirna, mrna):\n",
    "        continue\n",
    "    \n",
    "    mirna_seed = mirna[SEED_START:SEED_START+SEED_SIZE]\n",
    "    mirna_so = mirna[:SEED_START]\n",
    "    mirna_rest = mirna[SEED_START+SEED_SIZE:]\n",
    "\n",
    "    \n",
    "    mrna_target = mrna[end_index-SEED_SIZE-1:end_index-1]\n",
    "    mrna_end = mrna[end_index-1:]\n",
    "    mrna_start = mrna[:end_index-SEED_SIZE-1]\n",
    "    combined_mfe = (cofold(mirna_seed+\"&\"+mrna_target)[1]\n",
    "         + cofold(mrna_end+\"&\"+mrna_start)[1]\n",
    "         + cofold(mirna_rest+\"&\"+mirna_so)[1])\n",
    "    mfe = cofold(mirna)[1] + cofold(mrna)[1]\n",
    "    res.append([combined_mfe, mfe])"
   ]
  },
  {
   "cell_type": "code",
   "execution_count": 16,
   "metadata": {
    "collapsed": false
   },
   "outputs": [
    {
     "data": {
      "text/plain": [
       "[[-294.8999876976013, -292.6000061035156],\n",
       " [-495.4000062942505, -489.6000061035156]]"
      ]
     },
     "execution_count": 16,
     "metadata": {},
     "output_type": "execute_result"
    }
   ],
   "source": [
    "# you can check res\n",
    "res"
   ]
  },
  {
   "cell_type": "code",
   "execution_count": null,
   "metadata": {
    "collapsed": true
   },
   "outputs": [],
   "source": []
  }
 ],
 "metadata": {
  "anaconda-cloud": {},
  "kernelspec": {
   "display_name": "Python [default]",
   "language": "python",
   "name": "python3"
  },
  "language_info": {
   "codemirror_mode": {
    "name": "ipython",
    "version": 3
   },
   "file_extension": ".py",
   "mimetype": "text/x-python",
   "name": "python",
   "nbconvert_exporter": "python",
   "pygments_lexer": "ipython3",
   "version": "3.5.2"
  }
 },
 "nbformat": 4,
 "nbformat_minor": 1
}
