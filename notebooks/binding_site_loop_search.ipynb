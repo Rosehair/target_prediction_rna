{
 "cells": [
  {
   "cell_type": "code",
   "execution_count": 21,
   "metadata": {
    "collapsed": false
   },
   "outputs": [],
   "source": [
    "import pandas as pd\n",
    "import numpy as np\n",
    "from Bio import SeqIO\n",
    "from src import deepTarget_utils as bio_utils\n",
    "import re\n",
    "import src.RNA\n",
    "from  src.RNA import cofold\n",
    "from src import my_deepTarget_utils as utils\n",
    "from src.deepTarget_utils import find_candidate"
   ]
  },
  {
   "cell_type": "code",
   "execution_count": 16,
   "metadata": {
    "collapsed": false
   },
   "outputs": [],
   "source": [
    "poss_site_level = \"../data/13059_2014_500_MOESM1_ESM=site-level human miRNA-target site pairs from miRecords=.csv\"\n",
    "data = pd.read_csv(poss_site_level)"
   ]
  },
  {
   "cell_type": "code",
   "execution_count": 17,
   "metadata": {
    "collapsed": false
   },
   "outputs": [],
   "source": [
    "mirna_fasta_file = \"../data/miRNA.fasta\"\n",
    "mrna_fasta_file = \"../data/3UTR.fasta\"\n",
    "mirna_ids, mirna_seqs, mrna_ids, mrna_seqs = bio_utils.read_fasta(mirna_fasta_file, mrna_fasta_file)"
   ]
  },
  {
   "cell_type": "code",
   "execution_count": 18,
   "metadata": {
    "collapsed": false
   },
   "outputs": [],
   "source": [
    "data[\"seq\"] = data.mRNA_ID.apply(lambda x: mrna_seqs[mrna_ids.index(x)])\n",
    "data[\"miseq\"] = data.miR_ID.apply(lambda x: mirna_seqs[mirna_ids.index(x)])"
   ]
  },
  {
   "cell_type": "code",
   "execution_count": 22,
   "metadata": {
    "collapsed": false
   },
   "outputs": [],
   "source": [
    "for index in range(len(data)):\n",
    "    datum = data.loc[index]\n",
    "    mirna = datum.miseq\n",
    "    target = datum.seq"
   ]
  },
  {
   "cell_type": "code",
   "execution_count": 11,
   "metadata": {
    "collapsed": false
   },
   "outputs": [],
   "source": [
    "from multiprocessing import Pool\n",
    "\n",
    "def par_func(i):\n",
    "    return cofold(data.loc[i].seq)[0]\n",
    "\n",
    "p = Pool(7)\n",
    "forms = p.map(par_func, list(range(len(data))))"
   ]
  },
  {
   "cell_type": "code",
   "execution_count": 13,
   "metadata": {
    "collapsed": false
   },
   "outputs": [
    {
     "data": {
      "text/plain": [
       "(0.47928994082840237, 0.38865531258231134)"
      ]
     },
     "execution_count": 13,
     "metadata": {},
     "output_type": "execute_result"
    }
   ],
   "source": [
    "from collections import Counter\n",
    "c = 0\n",
    "x = 0\n",
    "for index in range(len(forms)):\n",
    "    start = data.Start_position.loc[index]\n",
    "    end = data.End_position.loc[index]\n",
    "    site = forms[index][start:end]\n",
    "    \n",
    "    counts=Counter(site)\n",
    "    prob_dot_site = counts[\".\"]/len(site)\n",
    "    counts_all=dict(Counter(forms[index]))\n",
    "    prob_dot = counts_all[\".\"]/len(forms[index])\n",
    "    x += prob_dot_site\n",
    "    if  prob_dot_site > prob_dot:\n",
    "        c+=1\n",
    "c/len(forms), x/len(forms)"
   ]
  },
  {
   "cell_type": "code",
   "execution_count": null,
   "metadata": {
    "collapsed": true
   },
   "outputs": [],
   "source": [
    "# bad results, no correlation"
   ]
  }
 ],
 "metadata": {
  "anaconda-cloud": {},
  "kernelspec": {
   "display_name": "Python [default]",
   "language": "python",
   "name": "python3"
  },
  "language_info": {
   "codemirror_mode": {
    "name": "ipython",
    "version": 3
   },
   "file_extension": ".py",
   "mimetype": "text/x-python",
   "name": "python",
   "nbconvert_exporter": "python",
   "pygments_lexer": "ipython3",
   "version": "3.5.2"
  }
 },
 "nbformat": 4,
 "nbformat_minor": 1
}
