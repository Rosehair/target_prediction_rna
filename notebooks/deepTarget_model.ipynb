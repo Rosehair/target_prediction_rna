{
 "cells": [
  {
   "cell_type": "code",
   "execution_count": 2,
   "metadata": {
    "collapsed": true
   },
   "outputs": [],
   "source": [
    "import warnings\n",
    "warnings.filterwarnings('ignore')"
   ]
  },
  {
   "cell_type": "code",
   "execution_count": 4,
   "metadata": {
    "collapsed": false
   },
   "outputs": [],
   "source": [
    "import pandas as pd\n",
    "import numpy as np\n",
    "from Bio import SeqIO\n",
    "from src import deepTarget_utils as bio_utils\n",
    "from src import my_deepTarget_utils as utils"
   ]
  },
  {
   "cell_type": "markdown",
   "metadata": {},
   "source": [
    "## load and format train data"
   ]
  },
  {
   "cell_type": "code",
   "execution_count": 76,
   "metadata": {
    "collapsed": true
   },
   "outputs": [],
   "source": [
    "poss_site_level = \"../data/13059_2014_500_MOESM1_ESM=site-level human miRNA-target site pairs from miRecords=.csv\"\n",
    "poss_gene_level = \"../data/13059_2014_500_MOESM2_ESM=UTR-level human miRNA-gene pairs from miRecords and miRTarBase=.csv\"\n",
    "neg_site_level = \"../data/13059_2014_500_MOESM4_ESM=site-level human mock miRNA-target site negative pairs=.csv\"\n",
    "neg_gene_level = \"../data/13059_2014_500_MOESM5_ESM=UTR-level human mock miRNA-gene pairs=.csv\""
   ]
  },
  {
   "cell_type": "code",
   "execution_count": 77,
   "metadata": {
    "collapsed": false
   },
   "outputs": [],
   "source": [
    "mirna_fasta_file = \"../data/miRNA.fasta\"\n",
    "mrna_fasta_file = \"../data/3UTR.fasta\"\n",
    "mirna_ids, mirna_seqs, mrna_ids, mrna_seqs = bio_utils.read_fasta(mirna_fasta_file, mrna_fasta_file)"
   ]
  },
  {
   "cell_type": "code",
   "execution_count": 78,
   "metadata": {
    "collapsed": true
   },
   "outputs": [],
   "source": [
    "poss_data = pd.read_csv(poss_gene_level)\n",
    "query_ids, target_ids, label = list(poss_data[\"miR_ID\"]), list(poss_data[\"mRNA_ID\"]), np.ones(len(poss_data))"
   ]
  },
  {
   "cell_type": "code",
   "execution_count": 79,
   "metadata": {
    "collapsed": false
   },
   "outputs": [],
   "source": [
    "X_query_ids, X_query_seqs, X_target_ids, X_target_seqs, Y = utils.make_train_pair(mirna_ids,\n",
    "                                                                                  mirna_seqs,\n",
    "                                                                                  mrna_ids,\n",
    "                                                                                  mrna_seqs,\n",
    "                                                                                  query_ids,\n",
    "                                                                                  target_ids,\n",
    "                                                                                  label)"
   ]
  },
  {
   "cell_type": "code",
   "execution_count": 80,
   "metadata": {
    "collapsed": false
   },
   "outputs": [],
   "source": [
    "poss_train_data = pd.DataFrame(np.array([X_query_ids, X_query_seqs,\n",
    "                                         X_target_ids, X_target_seqs,\n",
    "                                         list(Y.flatten())]).T, \n",
    "                                         columns=[\"mi_name\",\"mi_seq\",\"m_name\",\"target_seq\", \"label\"])"
   ]
  },
  {
   "cell_type": "code",
   "execution_count": 81,
   "metadata": {
    "collapsed": false
   },
   "outputs": [],
   "source": [
    "neg_train_pd = pd.read_csv(neg_gene_level, header=None)\n",
    "neg_train_pd.columns = [\"mi_name\", \"m_name\", \"none\", \"target_seq\"]\n",
    "neg_train_pd.drop(columns=[\"none\"], inplace=True)\n",
    "neg_train_pd[\"mi_seq\"] = neg_train_pd.apply(lambda x: mirna_seqs[mirna_ids.index(x.mi_name)], axis=1)\n",
    "neg_train_pd[\"label\"] = 0 "
   ]
  },
  {
   "cell_type": "code",
   "execution_count": 82,
   "metadata": {
    "collapsed": false
   },
   "outputs": [],
   "source": [
    "# all train data\n",
    "train_data = neg_train_pd.append(poss_train_data)\n",
    "# shuffle data\n",
    "train_data = train_data.sample(frac=1).reset_index(drop=True)\n",
    "train_data[\"target_seq\"] = train_data[\"target_seq\"].apply( lambda x: x.upper())"
   ]
  },
  {
   "cell_type": "code",
   "execution_count": 83,
   "metadata": {
    "collapsed": false,
    "scrolled": true
   },
   "outputs": [],
   "source": [
    "X_mirna, X_mrna = bio_utils.formatting_data(list(train_data[\"mi_seq\"]), list(train_data[\"target_seq\"]))\n",
    "labels = np.array(list(train_data[\"label\"]), dtype=int).reshape(len(train_data), 1)"
   ]
  },
  {
   "cell_type": "code",
   "execution_count": 84,
   "metadata": {
    "collapsed": false
   },
   "outputs": [],
   "source": [
    "#labels\n",
    "Y = []\n",
    "for l in labels:\n",
    "    if l == 1: Y.append([0, 1])\n",
    "    else: Y.append([1, 0])"
   ]
  },
  {
   "cell_type": "markdown",
   "metadata": {},
   "source": [
    "## embeding training"
   ]
  },
  {
   "cell_type": "code",
   "execution_count": 38,
   "metadata": {
    "collapsed": false
   },
   "outputs": [
    {
     "name": "stderr",
     "output_type": "stream",
     "text": [
      "Using Theano backend.\n"
     ]
    }
   ],
   "source": [
    "from keras.utils import np_utils\n",
    "from keras.layers import containers\n",
    "from keras.models import Sequential\n",
    "import json\n",
    "from keras.layers.core import Dense, Dropout, Merge\n",
    "from keras.layers.embeddings import Embedding\n",
    "from keras.layers.recurrent import SimpleRNN, LSTM, GRU\n",
    "from keras.models import model_from_json, model_from_config"
   ]
  },
  {
   "cell_type": "code",
   "execution_count": 39,
   "metadata": {
    "collapsed": false
   },
   "outputs": [],
   "source": [
    "# it will construct and compile from json config file\n",
    "embd_model = model_from_json(open(\"./src/deepTarget_embd_model.json\").read())"
   ]
  },
  {
   "cell_type": "code",
   "execution_count": 85,
   "metadata": {
    "collapsed": false
   },
   "outputs": [],
   "source": [
    "emd_train_data = np.concatenate((X_mirna, X_mrna))"
   ]
  },
  {
   "cell_type": "code",
   "execution_count": null,
   "metadata": {
    "collapsed": false
   },
   "outputs": [],
   "source": [
    "# if you want to load their weights\n",
    "# embd_model.load_weights(\"../data/emb_we.hdf5\")"
   ]
  },
  {
   "cell_type": "code",
   "execution_count": 86,
   "metadata": {
    "collapsed": false
   },
   "outputs": [],
   "source": [
    "emd_train = []\n",
    "for datum in emd_train_data:\n",
    "    emd_train.append(bio_utils.one_hot(emd_train_data[0]))"
   ]
  },
  {
   "cell_type": "code",
   "execution_count": 42,
   "metadata": {
    "collapsed": false,
    "scrolled": true
   },
   "outputs": [
    {
     "name": "stdout",
     "output_type": "stream",
     "text": [
      "Epoch 1/15\n",
      "15832/15832 [==============================] - 0s - loss: 0.2278     \n",
      "Epoch 2/15\n",
      "15832/15832 [==============================] - 0s - loss: 0.1929     \n",
      "Epoch 3/15\n",
      "15832/15832 [==============================] - 0s - loss: 0.1746     \n",
      "Epoch 4/15\n",
      "15832/15832 [==============================] - 0s - loss: 0.1653     \n",
      "Epoch 5/15\n",
      "15832/15832 [==============================] - 0s - loss: 0.1608     \n",
      "Epoch 6/15\n",
      "15832/15832 [==============================] - 0s - loss: 0.1588     \n",
      "Epoch 7/15\n",
      "15832/15832 [==============================] - 0s - loss: 0.1579     \n",
      "Epoch 8/15\n",
      "15832/15832 [==============================] - 0s - loss: 0.1576     \n",
      "Epoch 9/15\n",
      "15832/15832 [==============================] - 0s - loss: 0.1575     \n",
      "Epoch 10/15\n",
      "15832/15832 [==============================] - 0s - loss: 0.1575     \n",
      "Epoch 11/15\n",
      "15832/15832 [==============================] - 0s - loss: 0.1575     \n",
      "Epoch 12/15\n",
      "15832/15832 [==============================] - 0s - loss: 0.1575     \n",
      "Epoch 13/15\n",
      "15832/15832 [==============================] - 0s - loss: 0.1575     \n",
      "Epoch 14/15\n",
      "15832/15832 [==============================] - 0s - loss: 0.1575     \n",
      "Epoch 15/15\n",
      "15832/15832 [==============================] - 0s - loss: 0.1575     \n"
     ]
    },
    {
     "data": {
      "text/plain": [
       "<keras.callbacks.History at 0x7fcebb9305c0>"
      ]
     },
     "execution_count": 42,
     "metadata": {},
     "output_type": "execute_result"
    }
   ],
   "source": [
    "embd_model.fit(emd_train_data, emd_train, nb_epoch=15)"
   ]
  },
  {
   "cell_type": "code",
   "execution_count": 87,
   "metadata": {
    "collapsed": true
   },
   "outputs": [],
   "source": [
    "X_mirna_embd = embd_model.predict(X_mirna)\n",
    "X_mrna_embd = embd_model.predict(X_mrna)"
   ]
  },
  {
   "cell_type": "markdown",
   "metadata": {},
   "source": [
    "## model training"
   ]
  },
  {
   "cell_type": "code",
   "execution_count": 48,
   "metadata": {
    "collapsed": false
   },
   "outputs": [],
   "source": [
    "model = model_from_json(open(\"../src/deepTarget_model.json\").read())"
   ]
  },
  {
   "cell_type": "code",
   "execution_count": 49,
   "metadata": {
    "collapsed": true
   },
   "outputs": [],
   "source": [
    "# if you want to load their weights\n",
    "# model.load_weights(\"../data/model_ew.hdf5\")"
   ]
  },
  {
   "cell_type": "code",
   "execution_count": 54,
   "metadata": {
    "collapsed": false,
    "scrolled": true
   },
   "outputs": [
    {
     "name": "stdout",
     "output_type": "stream",
     "text": [
      "Epoch 1/5\n",
      "7916/7916 [==============================] - 6s - loss: 0.1182     \n",
      "Epoch 2/5\n",
      "7916/7916 [==============================] - 5s - loss: 0.0798     \n",
      "Epoch 3/5\n",
      "7916/7916 [==============================] - 5s - loss: 0.0631     \n",
      "Epoch 4/5\n",
      "7916/7916 [==============================] - 6s - loss: 0.0542     \n",
      "Epoch 5/5\n",
      "7916/7916 [==============================] - 6s - loss: 0.0529     \n"
     ]
    },
    {
     "data": {
      "text/plain": [
       "<keras.callbacks.History at 0x7fce914b9c50>"
      ]
     },
     "execution_count": 54,
     "metadata": {},
     "output_type": "execute_result"
    }
   ],
   "source": [
    "model.fit(X=[X_mirna_embd, X_mrna_embd], y=Y, nb_epoch=5)"
   ]
  },
  {
   "cell_type": "code",
   "execution_count": 88,
   "metadata": {
    "collapsed": false
   },
   "outputs": [
    {
     "data": {
      "text/plain": [
       "(0.98875694795351188, 1.0, 0.99051273851401767)"
      ]
     },
     "execution_count": 88,
     "metadata": {},
     "output_type": "execute_result"
    }
   ],
   "source": [
    "# lets see how well model can predict on train data\n",
    "from sklearn.metrics import accuracy_score, precision_score, accuracy_score, f1_score\n",
    "predictions = model.predict([X_mirna_embd, X_mrna_embd], verbose=0)\n",
    "Y_predict = np.uint8(np.argmax(predictions, axis=1))\n",
    "l_true = np.uint8(np.argmax(Y, axis=1))\n",
    "# perfect\n",
    "accuracy_score(l_true, Y_predict), precision_score(l_true, Y_predict), f1_score(l_true, Y_predict)"
   ]
  },
  {
   "cell_type": "markdown",
   "metadata": {},
   "source": [
    "## prediction on test"
   ]
  },
  {
   "cell_type": "code",
   "execution_count": 56,
   "metadata": {
    "collapsed": true
   },
   "outputs": [],
   "source": [
    "# I cant find their prediction labels, TODO\n",
    "# ==========================================\n",
    "# it will take time, will try if checking this model gets mote importtant"
   ]
  },
  {
   "cell_type": "code",
   "execution_count": 92,
   "metadata": {
    "collapsed": false
   },
   "outputs": [],
   "source": [
    "mirna_fasta_file = '../data/miRNA.fasta'\n",
    "mrna_fasta_file = '../data/3UTR.fasta'\n",
    "query_pair_file = '../data/miRNA-mRNA_query.txt'\n",
    "mirna_ids, mirna_seqs, mrna_ids, mrna_seqs = bio_utils.read_fasta(mirna_fasta_file, mrna_fasta_file)\n",
    "query_ids, target_ids = bio_utils.read_query_pair(query_pair_file)\n",
    "\n",
    "X_query_ids, X_query_seqs, X_target_ids, X_target_seqs = bio_utils.make_pair_from_file(mirna_ids, mirna_seqs, mrna_ids, mrna_seqs, query_ids, target_ids)\n",
    "\n",
    "X_mirna, X_mrna = bio_utils.formatting_data(X_query_seqs, X_target_seqs)\n",
    "X_mirna_embd = embd_model.predict(X_mirna)\n",
    "X_mrna_embd = embd_model.predict(X_mrna)\n",
    "\n",
    "predictions = model.predict([X_mirna_embd, X_mrna_embd], verbose=0)\n",
    "Y_predict = np.uint8(np.argmax(predictions, axis=1))"
   ]
  },
  {
   "cell_type": "code",
   "execution_count": 93,
   "metadata": {
    "collapsed": false
   },
   "outputs": [
    {
     "data": {
      "text/plain": [
       "(5863, 5960, 4754)"
      ]
     },
     "execution_count": 93,
     "metadata": {},
     "output_type": "execute_result"
    }
   ],
   "source": [
    "sum(Y_predict), len(Y_predict), sum(their_predictions)"
   ]
  },
  {
   "cell_type": "code",
   "execution_count": 94,
   "metadata": {
    "collapsed": false
   },
   "outputs": [],
   "source": [
    "their_predictions = np.array(pd.read_csv(\"../data/their_predictions.txt\", sep=\"\\t\", header=None)[2])"
   ]
  },
  {
   "cell_type": "code",
   "execution_count": 95,
   "metadata": {
    "collapsed": false
   },
   "outputs": [
    {
     "data": {
      "text/plain": [
       "(0.78406040268456378, 0.87877931619101446)"
      ]
     },
     "execution_count": 95,
     "metadata": {},
     "output_type": "execute_result"
    }
   ],
   "source": [
    "# my model mostly gives 1's, I think I can fix it if I use all training data, TODO\n",
    "accuracy_score(their_predictions, Y_predict), f1_score(their_predictions, Y_predict)"
   ]
  }
 ],
 "metadata": {
  "anaconda-cloud": {},
  "kernelspec": {
   "display_name": "Python [conda env:anaconda3]",
   "language": "python",
   "name": "conda-env-anaconda3-py"
  },
  "language_info": {
   "codemirror_mode": {
    "name": "ipython",
    "version": 3
   },
   "file_extension": ".py",
   "mimetype": "text/x-python",
   "name": "python",
   "nbconvert_exporter": "python",
   "pygments_lexer": "ipython3",
   "version": "3.5.2"
  }
 },
 "nbformat": 4,
 "nbformat_minor": 1
}
